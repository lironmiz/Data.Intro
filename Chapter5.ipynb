{
  "nbformat": 4,
  "nbformat_minor": 0,
  "metadata": {
    "colab": {
      "provenance": []
    },
    "kernelspec": {
      "name": "python3",
      "display_name": "Python 3"
    },
    "language_info": {
      "name": "python"
    }
  },
  "cells": [
    {
      "cell_type": "markdown",
      "source": [
        "#<div dir=\"rtl\" align=center>Summary data by variable and the groupby method</div> "
      ],
      "metadata": {
        "id": "ahPyKj-oIWA9"
      }
    },
    {
      "cell_type": "code",
      "execution_count": null,
      "metadata": {
        "id": "EV06ptrVCb6Y"
      },
      "outputs": [],
      "source": [
        "import pandas as pd\n",
        "import matplotlib.pyplot as plt"
      ]
    },
    {
      "cell_type": "code",
      "source": [
        "url_tracks = 'https://s3.eu-west-1.amazonaws.com/data.cyber.org.il/virtual_courses/introdata/colab/spotify_tracks1.csv'\n",
        "url_artists = 'https://s3.eu-west-1.amazonaws.com/data.cyber.org.il/virtual_courses/introdata/colab/artists.csv'"
      ],
      "metadata": {
        "id": "KEs-OawAfcnr"
      },
      "execution_count": null,
      "outputs": []
    },
    {
      "cell_type": "code",
      "source": [
        "tracks = pd.read_csv(url_tracks)\n",
        "artists = pd.read_csv(url_artists)"
      ],
      "metadata": {
        "id": "YmHH5dLn-ydP"
      },
      "execution_count": null,
      "outputs": []
    },
    {
      "cell_type": "code",
      "source": [
        "tracks_artists = pd.merge(left=tracks, right=artists, left_on='id_artists',right_on='id')"
      ],
      "metadata": {
        "id": "IQ85HFLRGcoj"
      },
      "execution_count": null,
      "outputs": []
    },
    {
      "cell_type": "code",
      "source": [
        "tracks_artists.loc[tracks_artists.artists=='Arik Einstein',:].head()"
      ],
      "metadata": {
        "colab": {
          "base_uri": "https://localhost:8080/",
          "height": 704
        },
        "id": "7I-cnDohGw2O",
        "outputId": "150330b4-f2d6-4ce3-d09e-cc45845bcab1"
      },
      "execution_count": null,
      "outputs": [
        {
          "output_type": "execute_result",
          "data": {
            "text/html": [
              "\n",
              "  <div id=\"df-5d9589d4-f337-407b-a309-e83688a0440f\">\n",
              "    <div class=\"colab-df-container\">\n",
              "      <div>\n",
              "<style scoped>\n",
              "    .dataframe tbody tr th:only-of-type {\n",
              "        vertical-align: middle;\n",
              "    }\n",
              "\n",
              "    .dataframe tbody tr th {\n",
              "        vertical-align: top;\n",
              "    }\n",
              "\n",
              "    .dataframe thead th {\n",
              "        text-align: right;\n",
              "    }\n",
              "</style>\n",
              "<table border=\"1\" class=\"dataframe\">\n",
              "  <thead>\n",
              "    <tr style=\"text-align: right;\">\n",
              "      <th></th>\n",
              "      <th>name_x</th>\n",
              "      <th>artists</th>\n",
              "      <th>id_artists</th>\n",
              "      <th>release_year</th>\n",
              "      <th>popularity_x</th>\n",
              "      <th>duration_minutes</th>\n",
              "      <th>key</th>\n",
              "      <th>mode</th>\n",
              "      <th>explicit</th>\n",
              "      <th>danceability</th>\n",
              "      <th>energy</th>\n",
              "      <th>loudness</th>\n",
              "      <th>speechiness</th>\n",
              "      <th>acousticness</th>\n",
              "      <th>instrumentalness</th>\n",
              "      <th>liveness</th>\n",
              "      <th>valence</th>\n",
              "      <th>tempo</th>\n",
              "      <th>id</th>\n",
              "      <th>followers</th>\n",
              "      <th>genres</th>\n",
              "      <th>name_y</th>\n",
              "      <th>popularity_y</th>\n",
              "    </tr>\n",
              "  </thead>\n",
              "  <tbody>\n",
              "    <tr>\n",
              "      <th>114215</th>\n",
              "      <td>הימים הארוכים העצובים</td>\n",
              "      <td>Arik Einstein</td>\n",
              "      <td>16XberediOtO5CaMrx85cR</td>\n",
              "      <td>1968</td>\n",
              "      <td>33</td>\n",
              "      <td>3.550000</td>\n",
              "      <td>Re</td>\n",
              "      <td>0</td>\n",
              "      <td>0</td>\n",
              "      <td>0.462</td>\n",
              "      <td>0.388</td>\n",
              "      <td>-13.023</td>\n",
              "      <td>0.0375</td>\n",
              "      <td>0.336</td>\n",
              "      <td>0.000051</td>\n",
              "      <td>0.1030</td>\n",
              "      <td>0.606</td>\n",
              "      <td>96.479</td>\n",
              "      <td>16XberediOtO5CaMrx85cR</td>\n",
              "      <td>319224.0</td>\n",
              "      <td>['classic israeli pop', 'israeli rock', 'israe...</td>\n",
              "      <td>Arik Einstein</td>\n",
              "      <td>53</td>\n",
              "    </tr>\n",
              "    <tr>\n",
              "      <th>114216</th>\n",
              "      <td>רוח רוח</td>\n",
              "      <td>Arik Einstein</td>\n",
              "      <td>16XberediOtO5CaMrx85cR</td>\n",
              "      <td>1968</td>\n",
              "      <td>32</td>\n",
              "      <td>3.561550</td>\n",
              "      <td>Do</td>\n",
              "      <td>1</td>\n",
              "      <td>0</td>\n",
              "      <td>0.601</td>\n",
              "      <td>0.506</td>\n",
              "      <td>-14.175</td>\n",
              "      <td>0.0345</td>\n",
              "      <td>0.744</td>\n",
              "      <td>0.000006</td>\n",
              "      <td>0.1130</td>\n",
              "      <td>0.936</td>\n",
              "      <td>139.362</td>\n",
              "      <td>16XberediOtO5CaMrx85cR</td>\n",
              "      <td>319224.0</td>\n",
              "      <td>['classic israeli pop', 'israeli rock', 'israe...</td>\n",
              "      <td>Arik Einstein</td>\n",
              "      <td>53</td>\n",
              "    </tr>\n",
              "    <tr>\n",
              "      <th>114219</th>\n",
              "      <td>Sa Leat</td>\n",
              "      <td>Arik Einstein</td>\n",
              "      <td>16XberediOtO5CaMrx85cR</td>\n",
              "      <td>1974</td>\n",
              "      <td>42</td>\n",
              "      <td>4.296700</td>\n",
              "      <td>Do</td>\n",
              "      <td>1</td>\n",
              "      <td>0</td>\n",
              "      <td>0.409</td>\n",
              "      <td>0.377</td>\n",
              "      <td>-13.552</td>\n",
              "      <td>0.0346</td>\n",
              "      <td>0.622</td>\n",
              "      <td>0.000205</td>\n",
              "      <td>0.1070</td>\n",
              "      <td>0.513</td>\n",
              "      <td>156.291</td>\n",
              "      <td>16XberediOtO5CaMrx85cR</td>\n",
              "      <td>319224.0</td>\n",
              "      <td>['classic israeli pop', 'israeli rock', 'israe...</td>\n",
              "      <td>Arik Einstein</td>\n",
              "      <td>53</td>\n",
              "    </tr>\n",
              "    <tr>\n",
              "      <th>114229</th>\n",
              "      <td>מה שהיה היה</td>\n",
              "      <td>Arik Einstein</td>\n",
              "      <td>16XberediOtO5CaMrx85cR</td>\n",
              "      <td>1968</td>\n",
              "      <td>21</td>\n",
              "      <td>3.417117</td>\n",
              "      <td>Re</td>\n",
              "      <td>0</td>\n",
              "      <td>0</td>\n",
              "      <td>0.526</td>\n",
              "      <td>0.308</td>\n",
              "      <td>-15.515</td>\n",
              "      <td>0.0407</td>\n",
              "      <td>0.175</td>\n",
              "      <td>0.000003</td>\n",
              "      <td>0.2090</td>\n",
              "      <td>0.440</td>\n",
              "      <td>114.099</td>\n",
              "      <td>16XberediOtO5CaMrx85cR</td>\n",
              "      <td>319224.0</td>\n",
              "      <td>['classic israeli pop', 'israeli rock', 'israe...</td>\n",
              "      <td>Arik Einstein</td>\n",
              "      <td>53</td>\n",
              "    </tr>\n",
              "    <tr>\n",
              "      <th>114236</th>\n",
              "      <td>Don Kishot</td>\n",
              "      <td>Arik Einstein</td>\n",
              "      <td>16XberediOtO5CaMrx85cR</td>\n",
              "      <td>1972</td>\n",
              "      <td>24</td>\n",
              "      <td>3.569200</td>\n",
              "      <td>Fa</td>\n",
              "      <td>1</td>\n",
              "      <td>0</td>\n",
              "      <td>0.578</td>\n",
              "      <td>0.331</td>\n",
              "      <td>-14.938</td>\n",
              "      <td>0.0312</td>\n",
              "      <td>0.695</td>\n",
              "      <td>0.004560</td>\n",
              "      <td>0.0742</td>\n",
              "      <td>0.432</td>\n",
              "      <td>98.325</td>\n",
              "      <td>16XberediOtO5CaMrx85cR</td>\n",
              "      <td>319224.0</td>\n",
              "      <td>['classic israeli pop', 'israeli rock', 'israe...</td>\n",
              "      <td>Arik Einstein</td>\n",
              "      <td>53</td>\n",
              "    </tr>\n",
              "  </tbody>\n",
              "</table>\n",
              "</div>\n",
              "      <button class=\"colab-df-convert\" onclick=\"convertToInteractive('df-5d9589d4-f337-407b-a309-e83688a0440f')\"\n",
              "              title=\"Convert this dataframe to an interactive table.\"\n",
              "              style=\"display:none;\">\n",
              "        \n",
              "  <svg xmlns=\"http://www.w3.org/2000/svg\" height=\"24px\"viewBox=\"0 0 24 24\"\n",
              "       width=\"24px\">\n",
              "    <path d=\"M0 0h24v24H0V0z\" fill=\"none\"/>\n",
              "    <path d=\"M18.56 5.44l.94 2.06.94-2.06 2.06-.94-2.06-.94-.94-2.06-.94 2.06-2.06.94zm-11 1L8.5 8.5l.94-2.06 2.06-.94-2.06-.94L8.5 2.5l-.94 2.06-2.06.94zm10 10l.94 2.06.94-2.06 2.06-.94-2.06-.94-.94-2.06-.94 2.06-2.06.94z\"/><path d=\"M17.41 7.96l-1.37-1.37c-.4-.4-.92-.59-1.43-.59-.52 0-1.04.2-1.43.59L10.3 9.45l-7.72 7.72c-.78.78-.78 2.05 0 2.83L4 21.41c.39.39.9.59 1.41.59.51 0 1.02-.2 1.41-.59l7.78-7.78 2.81-2.81c.8-.78.8-2.07 0-2.86zM5.41 20L4 18.59l7.72-7.72 1.47 1.35L5.41 20z\"/>\n",
              "  </svg>\n",
              "      </button>\n",
              "      \n",
              "  <style>\n",
              "    .colab-df-container {\n",
              "      display:flex;\n",
              "      flex-wrap:wrap;\n",
              "      gap: 12px;\n",
              "    }\n",
              "\n",
              "    .colab-df-convert {\n",
              "      background-color: #E8F0FE;\n",
              "      border: none;\n",
              "      border-radius: 50%;\n",
              "      cursor: pointer;\n",
              "      display: none;\n",
              "      fill: #1967D2;\n",
              "      height: 32px;\n",
              "      padding: 0 0 0 0;\n",
              "      width: 32px;\n",
              "    }\n",
              "\n",
              "    .colab-df-convert:hover {\n",
              "      background-color: #E2EBFA;\n",
              "      box-shadow: 0px 1px 2px rgba(60, 64, 67, 0.3), 0px 1px 3px 1px rgba(60, 64, 67, 0.15);\n",
              "      fill: #174EA6;\n",
              "    }\n",
              "\n",
              "    [theme=dark] .colab-df-convert {\n",
              "      background-color: #3B4455;\n",
              "      fill: #D2E3FC;\n",
              "    }\n",
              "\n",
              "    [theme=dark] .colab-df-convert:hover {\n",
              "      background-color: #434B5C;\n",
              "      box-shadow: 0px 1px 3px 1px rgba(0, 0, 0, 0.15);\n",
              "      filter: drop-shadow(0px 1px 2px rgba(0, 0, 0, 0.3));\n",
              "      fill: #FFFFFF;\n",
              "    }\n",
              "  </style>\n",
              "\n",
              "      <script>\n",
              "        const buttonEl =\n",
              "          document.querySelector('#df-5d9589d4-f337-407b-a309-e83688a0440f button.colab-df-convert');\n",
              "        buttonEl.style.display =\n",
              "          google.colab.kernel.accessAllowed ? 'block' : 'none';\n",
              "\n",
              "        async function convertToInteractive(key) {\n",
              "          const element = document.querySelector('#df-5d9589d4-f337-407b-a309-e83688a0440f');\n",
              "          const dataTable =\n",
              "            await google.colab.kernel.invokeFunction('convertToInteractive',\n",
              "                                                     [key], {});\n",
              "          if (!dataTable) return;\n",
              "\n",
              "          const docLinkHtml = 'Like what you see? Visit the ' +\n",
              "            '<a target=\"_blank\" href=https://colab.research.google.com/notebooks/data_table.ipynb>data table notebook</a>'\n",
              "            + ' to learn more about interactive tables.';\n",
              "          element.innerHTML = '';\n",
              "          dataTable['output_type'] = 'display_data';\n",
              "          await google.colab.output.renderOutput(dataTable, element);\n",
              "          const docLink = document.createElement('div');\n",
              "          docLink.innerHTML = docLinkHtml;\n",
              "          element.appendChild(docLink);\n",
              "        }\n",
              "      </script>\n",
              "    </div>\n",
              "  </div>\n",
              "  "
            ],
            "text/plain": [
              "                       name_x        artists  ...         name_y  popularity_y\n",
              "114215  הימים הארוכים העצובים  Arik Einstein  ...  Arik Einstein            53\n",
              "114216                רוח רוח  Arik Einstein  ...  Arik Einstein            53\n",
              "114219                Sa Leat  Arik Einstein  ...  Arik Einstein            53\n",
              "114229            מה שהיה היה  Arik Einstein  ...  Arik Einstein            53\n",
              "114236             Don Kishot  Arik Einstein  ...  Arik Einstein            53\n",
              "\n",
              "[5 rows x 23 columns]"
            ]
          },
          "metadata": {},
          "execution_count": 6
        }
      ]
    },
    {
      "cell_type": "code",
      "source": [
        "print(\"left\", tracks.shape)\n",
        "print(\"right\", artists.shape)\n",
        "print(\"merged\", tracks_artists.shape)"
      ],
      "metadata": {
        "colab": {
          "base_uri": "https://localhost:8080/"
        },
        "id": "_xkttEzfHGYc",
        "outputId": "27dfc53f-2249-434a-b702-e8b067996411"
      },
      "execution_count": null,
      "outputs": [
        {
          "output_type": "stream",
          "name": "stdout",
          "text": [
            "left (521259, 18)\n",
            "right (1104349, 5)\n",
            "merged (509540, 23)\n"
          ]
        }
      ]
    },
    {
      "cell_type": "code",
      "source": [
        "tracks.loc[521182,:]"
      ],
      "metadata": {
        "colab": {
          "base_uri": "https://localhost:8080/"
        },
        "id": "6zA8DGOCHdv9",
        "outputId": "d75c8cd6-0653-4fc1-f28c-db2315f5a968"
      },
      "execution_count": null,
      "outputs": [
        {
          "output_type": "execute_result",
          "data": {
            "text/plain": [
              "name                  Crickets in the Rain\n",
              "artists                     Cricket Sounds\n",
              "id_artists          2GAPMuSaXaAV31SJB4s4pO\n",
              "release_year                          2016\n",
              "popularity                              44\n",
              "duration_minutes                    2.8528\n",
              "key                                  Mi(b)\n",
              "mode                                     1\n",
              "explicit                                 0\n",
              "danceability                         0.359\n",
              "energy                               0.366\n",
              "loudness                           -31.193\n",
              "speechiness                         0.0728\n",
              "acousticness                         0.123\n",
              "instrumentalness                     0.611\n",
              "liveness                             0.266\n",
              "valence                              0.107\n",
              "tempo                               85.059\n",
              "Name: 521182, dtype: object"
            ]
          },
          "metadata": {},
          "execution_count": 17
        }
      ]
    },
    {
      "cell_type": "code",
      "source": [
        "artists.loc[artists.id=='2GAPMuSaXaAV31SJB4s4pO']"
      ],
      "metadata": {
        "id": "kHnV4PXNHjLs"
      },
      "execution_count": null,
      "outputs": []
    },
    {
      "cell_type": "code",
      "source": [
        "'cat' in 'dog,cat,mouse'"
      ],
      "metadata": {
        "id": "q69NJ33yIMtX"
      },
      "execution_count": null,
      "outputs": []
    },
    {
      "cell_type": "code",
      "source": [
        "'cat' in 'dog,hat,mouse'"
      ],
      "metadata": {
        "id": "KZ1lde-rIQSJ"
      },
      "execution_count": null,
      "outputs": []
    },
    {
      "cell_type": "code",
      "source": [
        "'cat' in \"I'll catch you later\""
      ],
      "metadata": {
        "id": "lEK29ajVIUky"
      },
      "execution_count": null,
      "outputs": []
    },
    {
      "cell_type": "code",
      "source": [
        "metal_yes_no = ['metal' in genre for genre in tracks_artists['genres']]"
      ],
      "metadata": {
        "id": "mpq2naLPIYHv"
      },
      "execution_count": null,
      "outputs": []
    },
    {
      "cell_type": "code",
      "source": [
        "tracks_artists['is_metal'] = metal_yes_no"
      ],
      "metadata": {
        "id": "DN79aGdRIbhN"
      },
      "execution_count": null,
      "outputs": []
    },
    {
      "cell_type": "markdown",
      "source": [
        "#<div dir=\"rtl\" align=center> merge</div> "
      ],
      "metadata": {
        "id": "a7M6dngnJxx_"
      }
    },
    {
      "cell_type": "code",
      "source": [
        "mean_energy_by_year_and_genre = tracks_artists.groupby(['release_year','is_metal'])['energy'].mean()"
      ],
      "metadata": {
        "id": "pY6d9-VyJ0qs"
      },
      "execution_count": null,
      "outputs": []
    },
    {
      "cell_type": "code",
      "source": [
        "mean_energy_by_year_and_genre = mean_energy_by_year_and_genre.reset_index()"
      ],
      "metadata": {
        "id": "OsuW0QFTKo8i"
      },
      "execution_count": null,
      "outputs": []
    },
    {
      "cell_type": "code",
      "source": [
        "mean_energy_by_year_and_genre.head(10)"
      ],
      "metadata": {
        "colab": {
          "base_uri": "https://localhost:8080/",
          "height": 363
        },
        "id": "lVmocMXsOA-T",
        "outputId": "3591ea7a-8483-4593-858e-afbd09d9f606"
      },
      "execution_count": null,
      "outputs": [
        {
          "output_type": "execute_result",
          "data": {
            "text/html": [
              "\n",
              "  <div id=\"df-75cb9f46-5f46-435f-b7bb-76c66cef1a7a\">\n",
              "    <div class=\"colab-df-container\">\n",
              "      <div>\n",
              "<style scoped>\n",
              "    .dataframe tbody tr th:only-of-type {\n",
              "        vertical-align: middle;\n",
              "    }\n",
              "\n",
              "    .dataframe tbody tr th {\n",
              "        vertical-align: top;\n",
              "    }\n",
              "\n",
              "    .dataframe thead th {\n",
              "        text-align: right;\n",
              "    }\n",
              "</style>\n",
              "<table border=\"1\" class=\"dataframe\">\n",
              "  <thead>\n",
              "    <tr style=\"text-align: right;\">\n",
              "      <th></th>\n",
              "      <th>release_year</th>\n",
              "      <th>is_metal</th>\n",
              "      <th>energy</th>\n",
              "    </tr>\n",
              "  </thead>\n",
              "  <tbody>\n",
              "    <tr>\n",
              "      <th>0</th>\n",
              "      <td>1922</td>\n",
              "      <td>False</td>\n",
              "      <td>0.333188</td>\n",
              "    </tr>\n",
              "    <tr>\n",
              "      <th>1</th>\n",
              "      <td>1923</td>\n",
              "      <td>False</td>\n",
              "      <td>0.266863</td>\n",
              "    </tr>\n",
              "    <tr>\n",
              "      <th>2</th>\n",
              "      <td>1924</td>\n",
              "      <td>False</td>\n",
              "      <td>0.360377</td>\n",
              "    </tr>\n",
              "    <tr>\n",
              "      <th>3</th>\n",
              "      <td>1925</td>\n",
              "      <td>False</td>\n",
              "      <td>0.262097</td>\n",
              "    </tr>\n",
              "    <tr>\n",
              "      <th>4</th>\n",
              "      <td>1926</td>\n",
              "      <td>False</td>\n",
              "      <td>0.248240</td>\n",
              "    </tr>\n",
              "    <tr>\n",
              "      <th>5</th>\n",
              "      <td>1927</td>\n",
              "      <td>False</td>\n",
              "      <td>0.275829</td>\n",
              "    </tr>\n",
              "    <tr>\n",
              "      <th>6</th>\n",
              "      <td>1928</td>\n",
              "      <td>False</td>\n",
              "      <td>0.256538</td>\n",
              "    </tr>\n",
              "    <tr>\n",
              "      <th>7</th>\n",
              "      <td>1929</td>\n",
              "      <td>False</td>\n",
              "      <td>0.323454</td>\n",
              "    </tr>\n",
              "    <tr>\n",
              "      <th>8</th>\n",
              "      <td>1930</td>\n",
              "      <td>False</td>\n",
              "      <td>0.332396</td>\n",
              "    </tr>\n",
              "    <tr>\n",
              "      <th>9</th>\n",
              "      <td>1931</td>\n",
              "      <td>False</td>\n",
              "      <td>0.281772</td>\n",
              "    </tr>\n",
              "  </tbody>\n",
              "</table>\n",
              "</div>\n",
              "      <button class=\"colab-df-convert\" onclick=\"convertToInteractive('df-75cb9f46-5f46-435f-b7bb-76c66cef1a7a')\"\n",
              "              title=\"Convert this dataframe to an interactive table.\"\n",
              "              style=\"display:none;\">\n",
              "        \n",
              "  <svg xmlns=\"http://www.w3.org/2000/svg\" height=\"24px\"viewBox=\"0 0 24 24\"\n",
              "       width=\"24px\">\n",
              "    <path d=\"M0 0h24v24H0V0z\" fill=\"none\"/>\n",
              "    <path d=\"M18.56 5.44l.94 2.06.94-2.06 2.06-.94-2.06-.94-.94-2.06-.94 2.06-2.06.94zm-11 1L8.5 8.5l.94-2.06 2.06-.94-2.06-.94L8.5 2.5l-.94 2.06-2.06.94zm10 10l.94 2.06.94-2.06 2.06-.94-2.06-.94-.94-2.06-.94 2.06-2.06.94z\"/><path d=\"M17.41 7.96l-1.37-1.37c-.4-.4-.92-.59-1.43-.59-.52 0-1.04.2-1.43.59L10.3 9.45l-7.72 7.72c-.78.78-.78 2.05 0 2.83L4 21.41c.39.39.9.59 1.41.59.51 0 1.02-.2 1.41-.59l7.78-7.78 2.81-2.81c.8-.78.8-2.07 0-2.86zM5.41 20L4 18.59l7.72-7.72 1.47 1.35L5.41 20z\"/>\n",
              "  </svg>\n",
              "      </button>\n",
              "      \n",
              "  <style>\n",
              "    .colab-df-container {\n",
              "      display:flex;\n",
              "      flex-wrap:wrap;\n",
              "      gap: 12px;\n",
              "    }\n",
              "\n",
              "    .colab-df-convert {\n",
              "      background-color: #E8F0FE;\n",
              "      border: none;\n",
              "      border-radius: 50%;\n",
              "      cursor: pointer;\n",
              "      display: none;\n",
              "      fill: #1967D2;\n",
              "      height: 32px;\n",
              "      padding: 0 0 0 0;\n",
              "      width: 32px;\n",
              "    }\n",
              "\n",
              "    .colab-df-convert:hover {\n",
              "      background-color: #E2EBFA;\n",
              "      box-shadow: 0px 1px 2px rgba(60, 64, 67, 0.3), 0px 1px 3px 1px rgba(60, 64, 67, 0.15);\n",
              "      fill: #174EA6;\n",
              "    }\n",
              "\n",
              "    [theme=dark] .colab-df-convert {\n",
              "      background-color: #3B4455;\n",
              "      fill: #D2E3FC;\n",
              "    }\n",
              "\n",
              "    [theme=dark] .colab-df-convert:hover {\n",
              "      background-color: #434B5C;\n",
              "      box-shadow: 0px 1px 3px 1px rgba(0, 0, 0, 0.15);\n",
              "      filter: drop-shadow(0px 1px 2px rgba(0, 0, 0, 0.3));\n",
              "      fill: #FFFFFF;\n",
              "    }\n",
              "  </style>\n",
              "\n",
              "      <script>\n",
              "        const buttonEl =\n",
              "          document.querySelector('#df-75cb9f46-5f46-435f-b7bb-76c66cef1a7a button.colab-df-convert');\n",
              "        buttonEl.style.display =\n",
              "          google.colab.kernel.accessAllowed ? 'block' : 'none';\n",
              "\n",
              "        async function convertToInteractive(key) {\n",
              "          const element = document.querySelector('#df-75cb9f46-5f46-435f-b7bb-76c66cef1a7a');\n",
              "          const dataTable =\n",
              "            await google.colab.kernel.invokeFunction('convertToInteractive',\n",
              "                                                     [key], {});\n",
              "          if (!dataTable) return;\n",
              "\n",
              "          const docLinkHtml = 'Like what you see? Visit the ' +\n",
              "            '<a target=\"_blank\" href=https://colab.research.google.com/notebooks/data_table.ipynb>data table notebook</a>'\n",
              "            + ' to learn more about interactive tables.';\n",
              "          element.innerHTML = '';\n",
              "          dataTable['output_type'] = 'display_data';\n",
              "          await google.colab.output.renderOutput(dataTable, element);\n",
              "          const docLink = document.createElement('div');\n",
              "          docLink.innerHTML = docLinkHtml;\n",
              "          element.appendChild(docLink);\n",
              "        }\n",
              "      </script>\n",
              "    </div>\n",
              "  </div>\n",
              "  "
            ],
            "text/plain": [
              "   release_year  is_metal    energy\n",
              "0          1922     False  0.333188\n",
              "1          1923     False  0.266863\n",
              "2          1924     False  0.360377\n",
              "3          1925     False  0.262097\n",
              "4          1926     False  0.248240\n",
              "5          1927     False  0.275829\n",
              "6          1928     False  0.256538\n",
              "7          1929     False  0.323454\n",
              "8          1930     False  0.332396\n",
              "9          1931     False  0.281772"
            ]
          },
          "metadata": {},
          "execution_count": 15
        }
      ]
    },
    {
      "cell_type": "code",
      "source": [
        "mean_energy_by_year_and_genre.loc[mean_energy_by_year_and_genre['is_metal']==True,'release_year'].values"
      ],
      "metadata": {
        "colab": {
          "base_uri": "https://localhost:8080/"
        },
        "id": "FQapkjsvPYzk",
        "outputId": "24b67831-3448-4a6e-8d40-31ca47628122"
      },
      "execution_count": null,
      "outputs": [
        {
          "output_type": "execute_result",
          "data": {
            "text/plain": [
              "array([1934, 1937, 1964, 1967, 1968, 1969, 1970, 1971, 1972, 1973, 1974,\n",
              "       1975, 1976, 1977, 1978, 1979, 1980, 1981, 1982, 1983, 1984, 1985,\n",
              "       1986, 1987, 1988, 1989, 1990, 1991, 1992, 1993, 1994, 1995, 1996,\n",
              "       1997, 1998, 1999, 2000, 2001, 2002, 2003, 2004, 2005, 2006, 2007,\n",
              "       2008, 2009, 2010, 2011, 2012, 2013, 2014, 2015, 2016, 2017, 2018,\n",
              "       2019, 2020, 2021])"
            ]
          },
          "metadata": {},
          "execution_count": 16
        }
      ]
    },
    {
      "cell_type": "code",
      "source": [
        "tracks_artists = tracks_artists.loc[tracks_artists.release_year>1900,:]"
      ],
      "metadata": {
        "id": "PFDmVDTp2u1Y"
      },
      "execution_count": null,
      "outputs": []
    },
    {
      "cell_type": "code",
      "source": [
        "mean_energy_by_year_and_genre.head(10)"
      ],
      "metadata": {
        "colab": {
          "base_uri": "https://localhost:8080/",
          "height": 363
        },
        "id": "7aCgtILw1Jgi",
        "outputId": "a851e4ca-74df-4777-d69b-9697daa55043"
      },
      "execution_count": null,
      "outputs": [
        {
          "output_type": "execute_result",
          "data": {
            "text/html": [
              "\n",
              "  <div id=\"df-32ac1ab7-13bd-4ba0-91d8-a22768bb4b2b\">\n",
              "    <div class=\"colab-df-container\">\n",
              "      <div>\n",
              "<style scoped>\n",
              "    .dataframe tbody tr th:only-of-type {\n",
              "        vertical-align: middle;\n",
              "    }\n",
              "\n",
              "    .dataframe tbody tr th {\n",
              "        vertical-align: top;\n",
              "    }\n",
              "\n",
              "    .dataframe thead th {\n",
              "        text-align: right;\n",
              "    }\n",
              "</style>\n",
              "<table border=\"1\" class=\"dataframe\">\n",
              "  <thead>\n",
              "    <tr style=\"text-align: right;\">\n",
              "      <th></th>\n",
              "      <th>release_year</th>\n",
              "      <th>is_metal</th>\n",
              "      <th>energy</th>\n",
              "    </tr>\n",
              "  </thead>\n",
              "  <tbody>\n",
              "    <tr>\n",
              "      <th>0</th>\n",
              "      <td>1922</td>\n",
              "      <td>False</td>\n",
              "      <td>0.333188</td>\n",
              "    </tr>\n",
              "    <tr>\n",
              "      <th>1</th>\n",
              "      <td>1923</td>\n",
              "      <td>False</td>\n",
              "      <td>0.266863</td>\n",
              "    </tr>\n",
              "    <tr>\n",
              "      <th>2</th>\n",
              "      <td>1924</td>\n",
              "      <td>False</td>\n",
              "      <td>0.360377</td>\n",
              "    </tr>\n",
              "    <tr>\n",
              "      <th>3</th>\n",
              "      <td>1925</td>\n",
              "      <td>False</td>\n",
              "      <td>0.262097</td>\n",
              "    </tr>\n",
              "    <tr>\n",
              "      <th>4</th>\n",
              "      <td>1926</td>\n",
              "      <td>False</td>\n",
              "      <td>0.248240</td>\n",
              "    </tr>\n",
              "    <tr>\n",
              "      <th>5</th>\n",
              "      <td>1927</td>\n",
              "      <td>False</td>\n",
              "      <td>0.275829</td>\n",
              "    </tr>\n",
              "    <tr>\n",
              "      <th>6</th>\n",
              "      <td>1928</td>\n",
              "      <td>False</td>\n",
              "      <td>0.256538</td>\n",
              "    </tr>\n",
              "    <tr>\n",
              "      <th>7</th>\n",
              "      <td>1929</td>\n",
              "      <td>False</td>\n",
              "      <td>0.323454</td>\n",
              "    </tr>\n",
              "    <tr>\n",
              "      <th>8</th>\n",
              "      <td>1930</td>\n",
              "      <td>False</td>\n",
              "      <td>0.332396</td>\n",
              "    </tr>\n",
              "    <tr>\n",
              "      <th>9</th>\n",
              "      <td>1931</td>\n",
              "      <td>False</td>\n",
              "      <td>0.281772</td>\n",
              "    </tr>\n",
              "  </tbody>\n",
              "</table>\n",
              "</div>\n",
              "      <button class=\"colab-df-convert\" onclick=\"convertToInteractive('df-32ac1ab7-13bd-4ba0-91d8-a22768bb4b2b')\"\n",
              "              title=\"Convert this dataframe to an interactive table.\"\n",
              "              style=\"display:none;\">\n",
              "        \n",
              "  <svg xmlns=\"http://www.w3.org/2000/svg\" height=\"24px\"viewBox=\"0 0 24 24\"\n",
              "       width=\"24px\">\n",
              "    <path d=\"M0 0h24v24H0V0z\" fill=\"none\"/>\n",
              "    <path d=\"M18.56 5.44l.94 2.06.94-2.06 2.06-.94-2.06-.94-.94-2.06-.94 2.06-2.06.94zm-11 1L8.5 8.5l.94-2.06 2.06-.94-2.06-.94L8.5 2.5l-.94 2.06-2.06.94zm10 10l.94 2.06.94-2.06 2.06-.94-2.06-.94-.94-2.06-.94 2.06-2.06.94z\"/><path d=\"M17.41 7.96l-1.37-1.37c-.4-.4-.92-.59-1.43-.59-.52 0-1.04.2-1.43.59L10.3 9.45l-7.72 7.72c-.78.78-.78 2.05 0 2.83L4 21.41c.39.39.9.59 1.41.59.51 0 1.02-.2 1.41-.59l7.78-7.78 2.81-2.81c.8-.78.8-2.07 0-2.86zM5.41 20L4 18.59l7.72-7.72 1.47 1.35L5.41 20z\"/>\n",
              "  </svg>\n",
              "      </button>\n",
              "      \n",
              "  <style>\n",
              "    .colab-df-container {\n",
              "      display:flex;\n",
              "      flex-wrap:wrap;\n",
              "      gap: 12px;\n",
              "    }\n",
              "\n",
              "    .colab-df-convert {\n",
              "      background-color: #E8F0FE;\n",
              "      border: none;\n",
              "      border-radius: 50%;\n",
              "      cursor: pointer;\n",
              "      display: none;\n",
              "      fill: #1967D2;\n",
              "      height: 32px;\n",
              "      padding: 0 0 0 0;\n",
              "      width: 32px;\n",
              "    }\n",
              "\n",
              "    .colab-df-convert:hover {\n",
              "      background-color: #E2EBFA;\n",
              "      box-shadow: 0px 1px 2px rgba(60, 64, 67, 0.3), 0px 1px 3px 1px rgba(60, 64, 67, 0.15);\n",
              "      fill: #174EA6;\n",
              "    }\n",
              "\n",
              "    [theme=dark] .colab-df-convert {\n",
              "      background-color: #3B4455;\n",
              "      fill: #D2E3FC;\n",
              "    }\n",
              "\n",
              "    [theme=dark] .colab-df-convert:hover {\n",
              "      background-color: #434B5C;\n",
              "      box-shadow: 0px 1px 3px 1px rgba(0, 0, 0, 0.15);\n",
              "      filter: drop-shadow(0px 1px 2px rgba(0, 0, 0, 0.3));\n",
              "      fill: #FFFFFF;\n",
              "    }\n",
              "  </style>\n",
              "\n",
              "      <script>\n",
              "        const buttonEl =\n",
              "          document.querySelector('#df-32ac1ab7-13bd-4ba0-91d8-a22768bb4b2b button.colab-df-convert');\n",
              "        buttonEl.style.display =\n",
              "          google.colab.kernel.accessAllowed ? 'block' : 'none';\n",
              "\n",
              "        async function convertToInteractive(key) {\n",
              "          const element = document.querySelector('#df-32ac1ab7-13bd-4ba0-91d8-a22768bb4b2b');\n",
              "          const dataTable =\n",
              "            await google.colab.kernel.invokeFunction('convertToInteractive',\n",
              "                                                     [key], {});\n",
              "          if (!dataTable) return;\n",
              "\n",
              "          const docLinkHtml = 'Like what you see? Visit the ' +\n",
              "            '<a target=\"_blank\" href=https://colab.research.google.com/notebooks/data_table.ipynb>data table notebook</a>'\n",
              "            + ' to learn more about interactive tables.';\n",
              "          element.innerHTML = '';\n",
              "          dataTable['output_type'] = 'display_data';\n",
              "          await google.colab.output.renderOutput(dataTable, element);\n",
              "          const docLink = document.createElement('div');\n",
              "          docLink.innerHTML = docLinkHtml;\n",
              "          element.appendChild(docLink);\n",
              "        }\n",
              "      </script>\n",
              "    </div>\n",
              "  </div>\n",
              "  "
            ],
            "text/plain": [
              "   release_year  is_metal    energy\n",
              "0          1922     False  0.333188\n",
              "1          1923     False  0.266863\n",
              "2          1924     False  0.360377\n",
              "3          1925     False  0.262097\n",
              "4          1926     False  0.248240\n",
              "5          1927     False  0.275829\n",
              "6          1928     False  0.256538\n",
              "7          1929     False  0.323454\n",
              "8          1930     False  0.332396\n",
              "9          1931     False  0.281772"
            ]
          },
          "metadata": {},
          "execution_count": 18
        }
      ]
    },
    {
      "cell_type": "code",
      "source": [
        "energy_by_year_is_metal = mean_energy_by_year_and_genre.loc[\n",
        "    mean_energy_by_year_and_genre['is_metal'] == True, :\n",
        "    ]"
      ],
      "metadata": {
        "id": "4dhgEiGwOB6K"
      },
      "execution_count": null,
      "outputs": []
    },
    {
      "cell_type": "code",
      "source": [
        "energy_by_year_not_metal = mean_energy_by_year_and_genre.loc[\n",
        "    mean_energy_by_year_and_genre['is_metal'] == False, :\n",
        "    ]"
      ],
      "metadata": {
        "id": "eLUeZB5tOCIo"
      },
      "execution_count": null,
      "outputs": []
    },
    {
      "cell_type": "code",
      "source": [
        "plt.figure(figsize=(10,6))\n",
        "plt.plot(energy_by_year_not_metal['release_year'], energy_by_year_not_metal['energy'], label = \"Not metal\")\n",
        "plt.plot(energy_by_year_is_metal['release_year'], energy_by_year_is_metal['energy'], label = \"Metal\")\n",
        "plt.title('Mean energy index by year for \"metal\" and other songs')\n",
        "plt.xlabel('Release year')\n",
        "plt.ylabel('Mean energy index')\n",
        "plt.legend();"
      ],
      "metadata": {
        "id": "GAIltfKISKPZ",
        "colab": {
          "base_uri": "https://localhost:8080/",
          "height": 404
        },
        "outputId": "d60cf8bb-4e10-4aa7-c2c9-273e76226cc8"
      },
      "execution_count": null,
      "outputs": [
        {
          "output_type": "display_data",
          "data": {
            "image/png": "[encoded data removed]",
            "text/plain": [
              "<Figure size 720x432 with 1 Axes>"
            ]
          },
          "metadata": {
            "needs_background": "light"
          }
        }
      ]
    },
    {
      "cell_type": "code",
      "source": [
        "energy_by_year_is_metal_after_1967 = energy_by_year_is_metal.loc[energy_by_year_is_metal['release_year'] >= 1967, :]"
      ],
      "metadata": {
        "id": "BKWbF6s_QLsA"
      },
      "execution_count": null,
      "outputs": []
    },
    {
      "cell_type": "code",
      "source": [
        "plt.figure(figsize=(10,6))\n",
        "plt.plot(energy_by_year_not_metal['release_year'], energy_by_year_not_metal['energy'], label = \"Not metal\")\n",
        "plt.plot(energy_by_year_is_metal_after_1967['release_year'], energy_by_year_is_metal_after_1967['energy'], label = \"Metal\")\n",
        "plt.title('Mean energy index by year for \"metal\" and other songs')\n",
        "plt.xlabel('Release year')\n",
        "plt.ylabel('Mean energy index')\n",
        "plt.legend();"
      ],
      "metadata": {
        "colab": {
          "base_uri": "https://localhost:8080/",
          "height": 404
        },
        "id": "81ifKvMoQZBb",
        "outputId": "11dc809f-dbcb-4773-a98c-b43c8b04fb12"
      },
      "execution_count": null,
      "outputs": [
        {
          "output_type": "display_data",
          "data": {
            "image/png": "[encoded data removed]",
            "text/plain": [
              "<Figure size 720x432 with 1 Axes>"
            ]
          },
          "metadata": {
            "needs_background": "light"
          }
        }
      ]
    }
  ]
}