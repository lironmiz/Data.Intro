{
  "nbformat": 4,
  "nbformat_minor": 0,
  "metadata": {
    "colab": {
      "provenance": []
    },
    "kernelspec": {
      "name": "python3",
      "display_name": "Python 3"
    },
    "language_info": {
      "name": "python"
    }
  },
  "cells": [
    {
      "cell_type": "markdown",
      "source": [
        "#<div dir=\"rtl\" align=center> unit 3 summary exercise </div>\n"
      ],
      "metadata": {
        "id": "_VbAkgWurPFo"
      }
    },
    {
      "cell_type": "code",
      "execution_count": 1,
      "metadata": {
        "id": "oZb9c-umex4P"
      },
      "outputs": [],
      "source": [
        "import pandas as pd"
      ]
    },
    {
      "cell_type": "code",
      "source": [
        "import numpy as np"
      ],
      "metadata": {
        "id": "toX2xzXZrEkM"
      },
      "execution_count": 31,
      "outputs": []
    },
    {
      "cell_type": "code",
      "source": [
        "url = \"https://s3.eu-west-1.amazonaws.com/data.cyber.org.il/virtual_courses/introdata/colab/youth_survey_preprocessed.csv\""
      ],
      "metadata": {
        "id": "a4VtDhTffciJ"
      },
      "execution_count": 2,
      "outputs": []
    },
    {
      "cell_type": "code",
      "source": [
        "df = pd.read_csv(url)"
      ],
      "metadata": {
        "id": "4ZBA9hnHhq9w"
      },
      "execution_count": 3,
      "outputs": []
    },
    {
      "cell_type": "markdown",
      "source": [
        "1: The Height column indicates the respondent's height in centimeters. Calculate the measures of center and dispersion of this column."
      ],
      "metadata": {
        "id": "uMSkzKaNhhaA"
      }
    },
    {
      "cell_type": "code",
      "source": [
        "print('Mean', df['Height'].mean()) # mean height of the data fram \n",
        "print('Median', df['Height'].median()) # median height of the data fram\n",
        "print('Range', df['Height'].max() - df['Height'].min()) # min height in data fram \n",
        "print('Standard deviation', df['Height'].std())"
      ],
      "metadata": {
        "colab": {
          "base_uri": "https://localhost:8080/"
        },
        "id": "BT_gV0jNfwg1",
        "outputId": "97f11e56-3bfd-4001-92e2-2305d1a186c1"
      },
      "execution_count": 4,
      "outputs": [
        {
          "output_type": "stream",
          "name": "stdout",
          "text": [
            "Mean 173.53036437246965\n",
            "Median 173.0\n",
            "Range 141.0\n",
            "Standard deviation 10.028131104228375\n"
          ]
        }
      ]
    },
    {
      "cell_type": "markdown",
      "source": [
        "2: Following on from the previous question, it appears that the range (141 centimeters) is significantly greater than the standard deviation (about 10 centimeters). Try to think what could be the reason for this."
      ],
      "metadata": {
        "id": "2r2S1GzeicqB"
      }
    },
    {
      "cell_type": "code",
      "source": [
        "print(\"min height\", df['Height'].min())"
      ],
      "metadata": {
        "colab": {
          "base_uri": "https://localhost:8080/"
        },
        "id": "U9V3BBPQhzX9",
        "outputId": "398273a6-559f-4275-ccf5-17e01407f104"
      },
      "execution_count": 5,
      "outputs": [
        {
          "output_type": "stream",
          "name": "stdout",
          "text": [
            "min height 62.0\n"
          ]
        }
      ]
    },
    {
      "cell_type": "markdown",
      "source": [
        "Answer: it look like there A record with a height of 62 centimeters stands out as being significantly lower than the other records. This could be due to a data entry error or the individual having dwarfism. This record also greatly increases the range of heights, as it is calculated by determining the difference between the largest and smallest values. Without this record, the range would have been 51 centimeters."
      ],
      "metadata": {
        "id": "9TMehm-vjE0v"
      }
    },
    {
      "cell_type": "markdown",
      "source": [
        "3: Following on from the previous question, look at the database and think about how you can check which option is more likely, whether the record that includes the unusually low height is a typo or is it a dwarfism phenomenon."
      ],
      "metadata": {
        "id": "HhKIBmC1jXsI"
      }
    },
    {
      "cell_type": "code",
      "source": [
        "print(df.query('Height == 62.0'))"
      ],
      "metadata": {
        "colab": {
          "base_uri": "https://localhost:8080/"
        },
        "id": "rRG5cHFHj2Q4",
        "outputId": "af1e53bc-8eb7-487f-8ddc-57560da449d1"
      },
      "execution_count": 20,
      "outputs": [
        {
          "output_type": "stream",
          "name": "stdout",
          "text": [
            "     Music  Slow songs or fast songs  Dance  Folk  Country  Classical music  \\\n",
            "672    5.0                       4.0    2.0   2.0      1.0              2.0   \n",
            "\n",
            "     Musical  Pop  Rock  Metal or Hardrock  ...  Age  Height  Weight  \\\n",
            "672      2.0  1.0   2.0                2.0  ...   20    62.0    55.0   \n",
            "\n",
            "     Number of siblings  Gender  Left - right handed                Education  \\\n",
            "672                 2.0  female         right handed  college/bachelor degree   \n",
            "\n",
            "     Only child  Village - town  House - block of flats  \n",
            "672          no            city          house/bungalow  \n",
            "\n",
            "[1 rows x 150 columns]\n"
          ]
        }
      ]
    },
    {
      "cell_type": "markdown",
      "source": [
        "The weight column of the unusual record in the database suggests that there is a relationship between height and weight. The weight indicated, 55 kilograms, is consistent with a typical weight for a person who is 1.62 meters tall, but is highly unusual for someone who is 62 centimeters tall. This leads us to believe that the record is likely the result of a typo and not a case of dwarfism.\n",
        "\n",
        "\n",
        "\n"
      ],
      "metadata": {
        "id": "HC5CO7N4lYYT"
      }
    },
    {
      "cell_type": "markdown",
      "source": [
        "4: The Punctuality column indicates the answer of the participants to the question of whether they tend to be punctual. Calculate the relative frequency table for the column. Assuming that you have scheduled an appointment with one of the research participants, and assuming that the participants' answers are accurate, what is the chance that you will not have to wait?"
      ],
      "metadata": {
        "id": "UQoJl0OznBgT"
      }
    },
    {
      "cell_type": "code",
      "source": [
        "df['Punctuality'].value_counts(normalize=True)"
      ],
      "metadata": {
        "colab": {
          "base_uri": "https://localhost:8080/"
        },
        "id": "jfxfXzH2kyMi",
        "outputId": "7af3edbb-c01a-4068-b218-89d0ea9826ac"
      },
      "execution_count": 21,
      "outputs": [
        {
          "output_type": "execute_result",
          "data": {
            "text/plain": [
              "i am always on time        0.397602\n",
              "i am often early           0.323676\n",
              "i am often running late    0.278721\n",
              "Name: Punctuality, dtype: float64"
            ]
          },
          "metadata": {},
          "execution_count": 21
        }
      ]
    },
    {
      "cell_type": "code",
      "source": [
        "chance_not_to_wait = 0.396181 + 0.330549"
      ],
      "metadata": {
        "id": "9IMVHHuHnJRN"
      },
      "execution_count": 22,
      "outputs": []
    },
    {
      "cell_type": "code",
      "source": [
        "print(chance_not_to_wait)"
      ],
      "metadata": {
        "colab": {
          "base_uri": "https://localhost:8080/"
        },
        "id": "Cf39ZcbNnXdZ",
        "outputId": "65b7a20f-f44f-49f5-856f-d21c1ac97473"
      },
      "execution_count": 23,
      "outputs": [
        {
          "output_type": "stream",
          "name": "stdout",
          "text": [
            "0.72673\n"
          ]
        }
      ]
    },
    {
      "cell_type": "markdown",
      "source": [
        "The Reliability column contains the participants' answers to the question: to what extent can the participants be trusted in performing the tasks given to them, on a scale of 1 to 5. The number 1 indicates that you cannot trust them at all and the number 5 indicates that you can trust them with your eyes closed). Calculate the relative frequency table of the Punctuality column (from the previous question) only for participants whose answer to the Reliability question is higher than average. Can you say something about this group in relation to all the participants?"
      ],
      "metadata": {
        "id": "DOUyfV9nnlFd"
      }
    },
    {
      "cell_type": "code",
      "source": [
        "mean_reliability =  df['Reliability'].mean()"
      ],
      "metadata": {
        "id": "RkBejNQrnZ-A"
      },
      "execution_count": 24,
      "outputs": []
    },
    {
      "cell_type": "code",
      "source": [
        "df[df['Reliability'] >= 4]['Punctuality'].value_counts(normalize=True)"
      ],
      "metadata": {
        "colab": {
          "base_uri": "https://localhost:8080/"
        },
        "id": "aobYUmZenrBd",
        "outputId": "bf30696c-9ff0-48cb-c777-b7de69392370"
      },
      "execution_count": 25,
      "outputs": [
        {
          "output_type": "execute_result",
          "data": {
            "text/plain": [
              "i am always on time        0.407463\n",
              "i am often early           0.355224\n",
              "i am often running late    0.237313\n",
              "Name: Punctuality, dtype: float64"
            ]
          },
          "metadata": {},
          "execution_count": 25
        }
      ]
    },
    {
      "cell_type": "markdown",
      "source": [
        "5: In this question we will compare the typical height of women and men. The Gender column indicates the gender of the participant and the Height column indicates the height in centimeters. Calculate the height histograms for each of the genders, in 10 centimeter increments from 1.45 meters to 2.05 meters tall. What can you say about the typical height?"
      ],
      "metadata": {
        "id": "2pCCY94Gqp3F"
      }
    },
    {
      "cell_type": "code",
      "source": [
        "female_df = df[df['Gender'] == 'female']\n",
        "male_df = df[df['Gender'] == 'male']"
      ],
      "metadata": {
        "id": "jvotVWsQntgl"
      },
      "execution_count": 26,
      "outputs": []
    },
    {
      "cell_type": "code",
      "source": [
        "np.histogram(female_df['Height'], bins=range(145, 206, 10))"
      ],
      "metadata": {
        "colab": {
          "base_uri": "https://localhost:8080/"
        },
        "id": "zJyoBEGlq3TL",
        "outputId": "a62ec66f-f96f-4fd1-f8a0-d3e6cce7b9ac"
      },
      "execution_count": 32,
      "outputs": [
        {
          "output_type": "execute_result",
          "data": {
            "text/plain": [
              "(array([  8, 150, 336,  81,   2,   0]),\n",
              " array([145, 155, 165, 175, 185, 195, 205]))"
            ]
          },
          "metadata": {},
          "execution_count": 32
        }
      ]
    },
    {
      "cell_type": "code",
      "source": [
        "np.histogram(male_df['Height'], bins=range(145, 206, 10))"
      ],
      "metadata": {
        "colab": {
          "base_uri": "https://localhost:8080/"
        },
        "id": "tvWKaWsSq5on",
        "outputId": "17d45fc3-e1c0-451a-c56c-326cd5c21d2d"
      },
      "execution_count": 33,
      "outputs": [
        {
          "output_type": "execute_result",
          "data": {
            "text/plain": [
              "(array([  0,   2,  50, 198, 144,  11]),\n",
              " array([145, 155, 165, 175, 185, 195, 205]))"
            ]
          },
          "metadata": {},
          "execution_count": 33
        }
      ]
    }
  ]
}