{
  "nbformat": 4,
  "nbformat_minor": 0,
  "metadata": {
    "colab": {
      "provenance": []
    },
    "kernelspec": {
      "name": "python3",
      "display_name": "Python 3"
    },
    "language_info": {
      "name": "python"
    }
  },
  "cells": [
    {
      "cell_type": "markdown",
      "metadata": {
        "id": "r_PtUQ86bVuw"
      },
      "source": [
        "#<div dir=\"rtl\" align=center>3.1 Dispersion center indices</div>\n"
      ]
    },
    {
      "cell_type": "code",
      "metadata": {
        "id": "rEEPXA_xceKh"
      },
      "source": [
        "import pandas as pd\n"
      ],
      "execution_count": null,
      "outputs": []
    },
    {
      "cell_type": "code",
      "metadata": {
        "colab": {
          "base_uri": "https://localhost:8080/"
        },
        "id": "zdxbJ6ylaxfW",
        "outputId": "11a0664c-9d4e-475b-b063-8c2ba425fff4"
      },
      "source": [
        "flying_mice_song_lengths = [3.12, 3.52, 3.4, 2.78, 3.68, 7.62]\n",
        "sum(flying_mice_song_lengths)/len(flying_mice_song_lengths)"
      ],
      "execution_count": null,
      "outputs": [
        {
          "output_type": "execute_result",
          "data": {
            "text/plain": [
              "4.0200000000000005"
            ]
          },
          "metadata": {},
          "execution_count": 2
        }
      ]
    },
    {
      "cell_type": "code",
      "metadata": {
        "colab": {
          "base_uri": "https://localhost:8080/"
        },
        "id": "aBdTahb8bUK5",
        "outputId": "c1729593-157d-4545-cc5a-bc08087b93f0"
      },
      "source": [
        "dana_playlist_song_lengths = pd.Series([3.12, 3.52, 3.4, 2.78, 3.68, 7.62])\n",
        "dana_playlist_song_lengths.mean()"
      ],
      "execution_count": null,
      "outputs": [
        {
          "output_type": "execute_result",
          "data": {
            "text/plain": [
              "4.0200000000000005"
            ]
          },
          "metadata": {},
          "execution_count": 3
        }
      ]
    },
    {
      "cell_type": "code",
      "metadata": {
        "colab": {
          "base_uri": "https://localhost:8080/"
        },
        "id": "2b7CmuHgcb81",
        "outputId": "5514b73e-d9f0-4d3f-e147-2991c6f3442c"
      },
      "source": [
        "dana_playlist_song_lengths.median()"
      ],
      "execution_count": null,
      "outputs": [
        {
          "output_type": "execute_result",
          "data": {
            "text/plain": [
              "3.46"
            ]
          },
          "metadata": {},
          "execution_count": 4
        }
      ]
    },
    {
      "cell_type": "code",
      "metadata": {
        "id": "GXFkKabPcnT-"
      },
      "source": [
        "new_playlist_song_lengths = pd.Series([4.42, 3.52, 3.4, 2.78, 5.8, 4.47])"
      ],
      "execution_count": null,
      "outputs": []
    },
    {
      "cell_type": "code",
      "metadata": {
        "colab": {
          "base_uri": "https://localhost:8080/"
        },
        "id": "mii5nLWpdI4Y",
        "outputId": "22076345-4a36-49c2-da6c-f5db54330a5d"
      },
      "source": [
        "new_playlist_song_lengths.median()"
      ],
      "execution_count": null,
      "outputs": [
        {
          "output_type": "execute_result",
          "data": {
            "text/plain": [
              "3.9699999999999998"
            ]
          },
          "metadata": {},
          "execution_count": 6
        }
      ]
    },
    {
      "cell_type": "code",
      "metadata": {
        "colab": {
          "base_uri": "https://localhost:8080/"
        },
        "id": "6FS9iNqTdKQq",
        "outputId": "d357362c-aa8c-4c06-cd90-14e3e77ac6e7"
      },
      "source": [
        "new_playlist_song_lengths.mean()"
      ],
      "execution_count": null,
      "outputs": [
        {
          "output_type": "execute_result",
          "data": {
            "text/plain": [
              "4.0649999999999995"
            ]
          },
          "metadata": {},
          "execution_count": 7
        }
      ]
    },
    {
      "cell_type": "code",
      "metadata": {
        "id": "L-vQbcVsdaDT"
      },
      "source": [
        "old_playlist_song_lengths = pd.Series([4.3, 4.51, 3.87, 3.92, 4.17, 3.41])"
      ],
      "execution_count": null,
      "outputs": []
    },
    {
      "cell_type": "code",
      "metadata": {
        "colab": {
          "base_uri": "https://localhost:8080/"
        },
        "id": "2oXeBAMTdup9",
        "outputId": "30fa8eef-1e21-40d0-a4bf-502038465776"
      },
      "source": [
        "old_playlist_song_lengths.mean()"
      ],
      "execution_count": null,
      "outputs": [
        {
          "output_type": "execute_result",
          "data": {
            "text/plain": [
              "4.03"
            ]
          },
          "metadata": {},
          "execution_count": 9
        }
      ]
    },
    {
      "cell_type": "code",
      "metadata": {
        "colab": {
          "base_uri": "https://localhost:8080/"
        },
        "id": "XJX91Fxud0mF",
        "outputId": "e736fd1c-c230-4ddb-dcc3-7a45d9476093"
      },
      "source": [
        "old_playlist_song_lengths.median()"
      ],
      "execution_count": null,
      "outputs": [
        {
          "output_type": "execute_result",
          "data": {
            "text/plain": [
              "4.045"
            ]
          },
          "metadata": {},
          "execution_count": 10
        }
      ]
    },
    {
      "cell_type": "code",
      "metadata": {
        "colab": {
          "base_uri": "https://localhost:8080/"
        },
        "id": "kByQAhnFd2iE",
        "outputId": "6a6509e2-6533-4d73-bd10-33acedfb10be"
      },
      "source": [
        "old_playlist_song_lengths.max() - old_playlist_song_lengths.min()"
      ],
      "execution_count": null,
      "outputs": [
        {
          "output_type": "execute_result",
          "data": {
            "text/plain": [
              "1.0999999999999996"
            ]
          },
          "metadata": {},
          "execution_count": 11
        }
      ]
    },
    {
      "cell_type": "code",
      "metadata": {
        "colab": {
          "base_uri": "https://localhost:8080/"
        },
        "id": "NBhsMj9ueCg2",
        "outputId": "3d182133-d71a-4c88-839f-101fd9a20700"
      },
      "source": [
        "new_playlist_song_lengths.max() - new_playlist_song_lengths.min()"
      ],
      "execution_count": null,
      "outputs": [
        {
          "output_type": "execute_result",
          "data": {
            "text/plain": [
              "3.02"
            ]
          },
          "metadata": {},
          "execution_count": 12
        }
      ]
    },
    {
      "cell_type": "code",
      "metadata": {
        "colab": {
          "base_uri": "https://localhost:8080/"
        },
        "id": "abGaBbFyeIde",
        "outputId": "d4ebdf43-3938-49cf-8ade-6754e4726bfb"
      },
      "source": [
        "old_playlist_song_lengths.std()"
      ],
      "execution_count": null,
      "outputs": [
        {
          "output_type": "execute_result",
          "data": {
            "text/plain": [
              "0.3860051813123755"
            ]
          },
          "metadata": {},
          "execution_count": 13
        }
      ]
    },
    {
      "cell_type": "code",
      "metadata": {
        "colab": {
          "base_uri": "https://localhost:8080/"
        },
        "id": "mjh53TP6ehMZ",
        "outputId": "52dee387-d11c-4d7f-9580-b89437104c59"
      },
      "source": [
        "new_playlist_song_lengths.std()"
      ],
      "execution_count": null,
      "outputs": [
        {
          "output_type": "execute_result",
          "data": {
            "text/plain": [
              "1.0668411315655204"
            ]
          },
          "metadata": {},
          "execution_count": 14
        }
      ]
    },
    {
      "cell_type": "markdown",
      "metadata": {
        "id": "aL0bZeAKfc98"
      },
      "source": [
        "#<div dir=\"rtl\" align=center>3.2 Categorical data and prevalence rates</div>"
      ]
    },
    {
      "cell_type": "code",
      "metadata": {
        "id": "AZK1Wkg8fMeD"
      },
      "source": [
        "flying_mice_genres = pd.Series(['rock', 'jazz', 'rock', 'pop', 'pop', 'rock', 'pop', 'rock', 'pop', \n",
        "                      'rock', 'rock', 'rock', 'rock', 'pop', 'rock', 'pop', 'rock', 'rock', \n",
        "                      'jazz', 'rock', 'rock', 'rock', 'rock', 'pop', 'pop', 'rock', 'rock',\n",
        "                      'pop', 'rock'])\n"
      ],
      "execution_count": null,
      "outputs": []
    },
    {
      "cell_type": "code",
      "metadata": {
        "id": "D1x-hnhgh39S"
      },
      "source": [
        "children_of_the_moon_genres = pd.Series(['pop', 'jazz', 'pop', 'jazz', 'rock', 'pop', 'rock', 'pop', 'pop',\n",
        "                                  'pop', 'jazz', 'rock', 'pop', 'rock', 'rock', 'rock', 'rock', 'pop', \n",
        "                                  'rock', 'jazz', 'pop', 'rock', 'rock', 'pop', 'rock', 'rock', 'pop',\n",
        "                                  'pop', 'rock', 'rock', 'rock', 'jazz', 'jazz', 'jazz', 'pop', 'rock', \n",
        "                                  'jazz', 'rock', 'rock', 'rock', 'jazz', 'rock', 'pop', 'rock', 'rock'])"
      ],
      "execution_count": null,
      "outputs": []
    },
    {
      "cell_type": "code",
      "metadata": {
        "colab": {
          "base_uri": "https://localhost:8080/"
        },
        "id": "rZHudorUg4x5",
        "outputId": "93727f68-ed4f-423c-e419-2df3ac728cf8"
      },
      "source": [
        "flying_mice_genres.value_counts()"
      ],
      "execution_count": null,
      "outputs": [
        {
          "output_type": "execute_result",
          "data": {
            "text/plain": [
              "rock    18\n",
              "pop      9\n",
              "jazz     2\n",
              "dtype: int64"
            ]
          },
          "metadata": {},
          "execution_count": 17
        }
      ]
    },
    {
      "cell_type": "code",
      "metadata": {
        "colab": {
          "base_uri": "https://localhost:8080/"
        },
        "id": "aM7TpZzvFhjo",
        "outputId": "185cad95-1bc4-4176-b4b7-7b78a6cd1f36"
      },
      "source": [
        "children_of_the_moon_genres.value_counts()"
      ],
      "execution_count": null,
      "outputs": [
        {
          "output_type": "execute_result",
          "data": {
            "text/plain": [
              "rock    22\n",
              "pop     14\n",
              "jazz     9\n",
              "dtype: int64"
            ]
          },
          "metadata": {},
          "execution_count": 18
        }
      ]
    },
    {
      "cell_type": "code",
      "metadata": {
        "colab": {
          "base_uri": "https://localhost:8080/"
        },
        "id": "64FOkVF2iWjO",
        "outputId": "18810b76-a3ca-4c37-c89d-83771e7177d5"
      },
      "source": [
        "children_of_the_moon_genres.value_counts(normalize=True)"
      ],
      "execution_count": null,
      "outputs": [
        {
          "output_type": "execute_result",
          "data": {
            "text/plain": [
              "rock    0.488889\n",
              "pop     0.311111\n",
              "jazz    0.200000\n",
              "dtype: float64"
            ]
          },
          "metadata": {},
          "execution_count": 19
        }
      ]
    }
  ]
}