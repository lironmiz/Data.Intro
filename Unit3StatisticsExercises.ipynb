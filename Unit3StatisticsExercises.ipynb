{
  "nbformat": 4,
  "nbformat_minor": 0,
  "metadata": {
    "colab": {
      "provenance": []
    },
    "kernelspec": {
      "name": "python3",
      "display_name": "Python 3"
    },
    "language_info": {
      "name": "python"
    }
  },
  "cells": [
    {
      "cell_type": "markdown",
      "source": [
        "1: Database loading and initial analysis\n",
        "Load the spotify_tracks.csv database and perform an initial analysis according to the tools learned in chapter 2:\n",
        "\n",
        "Check how many records are in the database\n",
        "Check how many columns there are in the database\n",
        "Check which columns are in the database\n",
        "Check what the column types are in the database\n",
        "Display the first ten records in the database"
      ],
      "metadata": {
        "id": "wNMfk3UoEz6C"
      }
    },
    {
      "cell_type": "code",
      "execution_count": 2,
      "metadata": {
        "id": "boiHGHvdERVg"
      },
      "outputs": [],
      "source": [
        "import pandas as pd"
      ]
    },
    {
      "cell_type": "code",
      "source": [
        "url = \"https://data.cyber.org.il/virtual_courses/introdata/colab/spotify_tracks.csv\" "
      ],
      "metadata": {
        "id": "TtASy8XDExtf"
      },
      "execution_count": 4,
      "outputs": []
    },
    {
      "cell_type": "code",
      "source": [
        "df = pd.read_csv(url)"
      ],
      "metadata": {
        "id": "xFMDld4CFHuo"
      },
      "execution_count": 5,
      "outputs": []
    },
    {
      "cell_type": "code",
      "source": [
        "# check how many records are and columns in the data set \n",
        "df.shape"
      ],
      "metadata": {
        "colab": {
          "base_uri": "https://localhost:8080/"
        },
        "id": "7GpeeDZLFOsg",
        "outputId": "6ce75a17-4a81-43fc-8b97-7e6c451b28a7"
      },
      "execution_count": 8,
      "outputs": [
        {
          "output_type": "execute_result",
          "data": {
            "text/plain": [
              "(521260, 17)"
            ]
          },
          "metadata": {},
          "execution_count": 8
        }
      ]
    },
    {
      "cell_type": "code",
      "source": [
        "# check which columns are in the database \n",
        "df.dtypes"
      ],
      "metadata": {
        "colab": {
          "base_uri": "https://localhost:8080/"
        },
        "id": "w-J4t1tMFWmg",
        "outputId": "450cf9e3-0097-4e3c-9921-db6b989359ca"
      },
      "execution_count": 9,
      "outputs": [
        {
          "output_type": "execute_result",
          "data": {
            "text/plain": [
              "name                 object\n",
              "artists              object\n",
              "release_year          int64\n",
              "popularity            int64\n",
              "duration_minutes    float64\n",
              "key                  object\n",
              "mode                  int64\n",
              "explicit              int64\n",
              "danceability        float64\n",
              "energy              float64\n",
              "loudness            float64\n",
              "speechiness         float64\n",
              "acousticness        float64\n",
              "instrumentalness    float64\n",
              "liveness            float64\n",
              "valence             float64\n",
              "tempo               float64\n",
              "dtype: object"
            ]
          },
          "metadata": {},
          "execution_count": 9
        }
      ]
    },
    {
      "cell_type": "code",
      "source": [
        "df.head(10)"
      ],
      "metadata": {
        "colab": {
          "base_uri": "https://localhost:8080/",
          "height": 600
        },
        "id": "OaN8LNrBFte7",
        "outputId": "fd4c7846-27db-4e80-965f-bfb949ac98a1"
      },
      "execution_count": 11,
      "outputs": [
        {
          "output_type": "execute_result",
          "data": {
            "text/plain": [
              "                                  name          artists  release_year  \\\n",
              "0                                Carve              Uli          1922   \n",
              "1  Capítulo 2.16 - Banquero Anarquista  Fernando Pessoa          1922   \n",
              "2   Vivo para Quererte - Remasterizado  Ignacio Corsini          1922   \n",
              "3        El Prisionero - Remasterizado  Ignacio Corsini          1922   \n",
              "4                  Lady of the Evening      Dick Haymes          1922   \n",
              "5                            Ave Maria      Dick Haymes          1922   \n",
              "6                       La Butte Rouge    Francis Marty          1922   \n",
              "7                              La Java      Mistinguett          1922   \n",
              "8                   Old Fashioned Girl      Greg Fieler          1922   \n",
              "9        Martín Fierro - Remasterizado  Ignacio Corsini          1922   \n",
              "\n",
              "   popularity  duration_minutes    key  mode  explicit  danceability  energy  \\\n",
              "0           6          2.115050      C     1         0         0.645  0.4450   \n",
              "1           0          1.636667      C     1         0         0.695  0.2630   \n",
              "2           0          3.027333  C#/Db     1         0         0.434  0.1770   \n",
              "3           0          2.948450      G     1         0         0.321  0.0946   \n",
              "4           0          2.718000  D#/Eb     0         0         0.402  0.1580   \n",
              "5           0          2.982217      F     1         0         0.227  0.2610   \n",
              "6           0          2.241117      E     1         0         0.510  0.3550   \n",
              "7           0          2.690450      E     1         0         0.563  0.1840   \n",
              "8           0          5.167883      C     0         0         0.488  0.4750   \n",
              "9           0          3.019550  F#/Gb     1         0         0.548  0.0391   \n",
              "\n",
              "   loudness  speechiness  acousticness  instrumentalness  liveness  valence  \\\n",
              "0   -13.338       0.4510         0.674          0.744000    0.1510   0.1270   \n",
              "1   -22.136       0.9570         0.797          0.000000    0.1480   0.6550   \n",
              "2   -21.180       0.0512         0.994          0.021800    0.2120   0.4570   \n",
              "3   -27.961       0.0504         0.995          0.918000    0.1040   0.3970   \n",
              "4   -16.900       0.0390         0.989          0.130000    0.3110   0.1960   \n",
              "5   -12.343       0.0382         0.994          0.247000    0.0977   0.0539   \n",
              "6   -12.833       0.1240         0.965          0.000000    0.1550   0.7270   \n",
              "7   -13.757       0.0512         0.993          0.000016    0.3250   0.6540   \n",
              "8   -16.222       0.0399         0.620          0.006450    0.1070   0.5440   \n",
              "9   -23.228       0.1530         0.996          0.933000    0.1480   0.6120   \n",
              "\n",
              "     tempo  \n",
              "0  104.851  \n",
              "1  102.009  \n",
              "2  130.418  \n",
              "3  169.980  \n",
              "4  103.220  \n",
              "5  118.891  \n",
              "6   85.754  \n",
              "7  133.088  \n",
              "8  139.952  \n",
              "9   75.595  "
            ],
            "text/html": [
              "\n",
              "  <div id=\"df-e70955d2-ad29-4c94-a570-52a2d8566ce0\">\n",
              "    <div class=\"colab-df-container\">\n",
              "      <div>\n",
              "<style scoped>\n",
              "    .dataframe tbody tr th:only-of-type {\n",
              "        vertical-align: middle;\n",
              "    }\n",
              "\n",
              "    .dataframe tbody tr th {\n",
              "        vertical-align: top;\n",
              "    }\n",
              "\n",
              "    .dataframe thead th {\n",
              "        text-align: right;\n",
              "    }\n",
              "</style>\n",
              "<table border=\"1\" class=\"dataframe\">\n",
              "  <thead>\n",
              "    <tr style=\"text-align: right;\">\n",
              "      <th></th>\n",
              "      <th>name</th>\n",
              "      <th>artists</th>\n",
              "      <th>release_year</th>\n",
              "      <th>popularity</th>\n",
              "      <th>duration_minutes</th>\n",
              "      <th>key</th>\n",
              "      <th>mode</th>\n",
              "      <th>explicit</th>\n",
              "      <th>danceability</th>\n",
              "      <th>energy</th>\n",
              "      <th>loudness</th>\n",
              "      <th>speechiness</th>\n",
              "      <th>acousticness</th>\n",
              "      <th>instrumentalness</th>\n",
              "      <th>liveness</th>\n",
              "      <th>valence</th>\n",
              "      <th>tempo</th>\n",
              "    </tr>\n",
              "  </thead>\n",
              "  <tbody>\n",
              "    <tr>\n",
              "      <th>0</th>\n",
              "      <td>Carve</td>\n",
              "      <td>Uli</td>\n",
              "      <td>1922</td>\n",
              "      <td>6</td>\n",
              "      <td>2.115050</td>\n",
              "      <td>C</td>\n",
              "      <td>1</td>\n",
              "      <td>0</td>\n",
              "      <td>0.645</td>\n",
              "      <td>0.4450</td>\n",
              "      <td>-13.338</td>\n",
              "      <td>0.4510</td>\n",
              "      <td>0.674</td>\n",
              "      <td>0.744000</td>\n",
              "      <td>0.1510</td>\n",
              "      <td>0.1270</td>\n",
              "      <td>104.851</td>\n",
              "    </tr>\n",
              "    <tr>\n",
              "      <th>1</th>\n",
              "      <td>Capítulo 2.16 - Banquero Anarquista</td>\n",
              "      <td>Fernando Pessoa</td>\n",
              "      <td>1922</td>\n",
              "      <td>0</td>\n",
              "      <td>1.636667</td>\n",
              "      <td>C</td>\n",
              "      <td>1</td>\n",
              "      <td>0</td>\n",
              "      <td>0.695</td>\n",
              "      <td>0.2630</td>\n",
              "      <td>-22.136</td>\n",
              "      <td>0.9570</td>\n",
              "      <td>0.797</td>\n",
              "      <td>0.000000</td>\n",
              "      <td>0.1480</td>\n",
              "      <td>0.6550</td>\n",
              "      <td>102.009</td>\n",
              "    </tr>\n",
              "    <tr>\n",
              "      <th>2</th>\n",
              "      <td>Vivo para Quererte - Remasterizado</td>\n",
              "      <td>Ignacio Corsini</td>\n",
              "      <td>1922</td>\n",
              "      <td>0</td>\n",
              "      <td>3.027333</td>\n",
              "      <td>C#/Db</td>\n",
              "      <td>1</td>\n",
              "      <td>0</td>\n",
              "      <td>0.434</td>\n",
              "      <td>0.1770</td>\n",
              "      <td>-21.180</td>\n",
              "      <td>0.0512</td>\n",
              "      <td>0.994</td>\n",
              "      <td>0.021800</td>\n",
              "      <td>0.2120</td>\n",
              "      <td>0.4570</td>\n",
              "      <td>130.418</td>\n",
              "    </tr>\n",
              "    <tr>\n",
              "      <th>3</th>\n",
              "      <td>El Prisionero - Remasterizado</td>\n",
              "      <td>Ignacio Corsini</td>\n",
              "      <td>1922</td>\n",
              "      <td>0</td>\n",
              "      <td>2.948450</td>\n",
              "      <td>G</td>\n",
              "      <td>1</td>\n",
              "      <td>0</td>\n",
              "      <td>0.321</td>\n",
              "      <td>0.0946</td>\n",
              "      <td>-27.961</td>\n",
              "      <td>0.0504</td>\n",
              "      <td>0.995</td>\n",
              "      <td>0.918000</td>\n",
              "      <td>0.1040</td>\n",
              "      <td>0.3970</td>\n",
              "      <td>169.980</td>\n",
              "    </tr>\n",
              "    <tr>\n",
              "      <th>4</th>\n",
              "      <td>Lady of the Evening</td>\n",
              "      <td>Dick Haymes</td>\n",
              "      <td>1922</td>\n",
              "      <td>0</td>\n",
              "      <td>2.718000</td>\n",
              "      <td>D#/Eb</td>\n",
              "      <td>0</td>\n",
              "      <td>0</td>\n",
              "      <td>0.402</td>\n",
              "      <td>0.1580</td>\n",
              "      <td>-16.900</td>\n",
              "      <td>0.0390</td>\n",
              "      <td>0.989</td>\n",
              "      <td>0.130000</td>\n",
              "      <td>0.3110</td>\n",
              "      <td>0.1960</td>\n",
              "      <td>103.220</td>\n",
              "    </tr>\n",
              "    <tr>\n",
              "      <th>5</th>\n",
              "      <td>Ave Maria</td>\n",
              "      <td>Dick Haymes</td>\n",
              "      <td>1922</td>\n",
              "      <td>0</td>\n",
              "      <td>2.982217</td>\n",
              "      <td>F</td>\n",
              "      <td>1</td>\n",
              "      <td>0</td>\n",
              "      <td>0.227</td>\n",
              "      <td>0.2610</td>\n",
              "      <td>-12.343</td>\n",
              "      <td>0.0382</td>\n",
              "      <td>0.994</td>\n",
              "      <td>0.247000</td>\n",
              "      <td>0.0977</td>\n",
              "      <td>0.0539</td>\n",
              "      <td>118.891</td>\n",
              "    </tr>\n",
              "    <tr>\n",
              "      <th>6</th>\n",
              "      <td>La Butte Rouge</td>\n",
              "      <td>Francis Marty</td>\n",
              "      <td>1922</td>\n",
              "      <td>0</td>\n",
              "      <td>2.241117</td>\n",
              "      <td>E</td>\n",
              "      <td>1</td>\n",
              "      <td>0</td>\n",
              "      <td>0.510</td>\n",
              "      <td>0.3550</td>\n",
              "      <td>-12.833</td>\n",
              "      <td>0.1240</td>\n",
              "      <td>0.965</td>\n",
              "      <td>0.000000</td>\n",
              "      <td>0.1550</td>\n",
              "      <td>0.7270</td>\n",
              "      <td>85.754</td>\n",
              "    </tr>\n",
              "    <tr>\n",
              "      <th>7</th>\n",
              "      <td>La Java</td>\n",
              "      <td>Mistinguett</td>\n",
              "      <td>1922</td>\n",
              "      <td>0</td>\n",
              "      <td>2.690450</td>\n",
              "      <td>E</td>\n",
              "      <td>1</td>\n",
              "      <td>0</td>\n",
              "      <td>0.563</td>\n",
              "      <td>0.1840</td>\n",
              "      <td>-13.757</td>\n",
              "      <td>0.0512</td>\n",
              "      <td>0.993</td>\n",
              "      <td>0.000016</td>\n",
              "      <td>0.3250</td>\n",
              "      <td>0.6540</td>\n",
              "      <td>133.088</td>\n",
              "    </tr>\n",
              "    <tr>\n",
              "      <th>8</th>\n",
              "      <td>Old Fashioned Girl</td>\n",
              "      <td>Greg Fieler</td>\n",
              "      <td>1922</td>\n",
              "      <td>0</td>\n",
              "      <td>5.167883</td>\n",
              "      <td>C</td>\n",
              "      <td>0</td>\n",
              "      <td>0</td>\n",
              "      <td>0.488</td>\n",
              "      <td>0.4750</td>\n",
              "      <td>-16.222</td>\n",
              "      <td>0.0399</td>\n",
              "      <td>0.620</td>\n",
              "      <td>0.006450</td>\n",
              "      <td>0.1070</td>\n",
              "      <td>0.5440</td>\n",
              "      <td>139.952</td>\n",
              "    </tr>\n",
              "    <tr>\n",
              "      <th>9</th>\n",
              "      <td>Martín Fierro - Remasterizado</td>\n",
              "      <td>Ignacio Corsini</td>\n",
              "      <td>1922</td>\n",
              "      <td>0</td>\n",
              "      <td>3.019550</td>\n",
              "      <td>F#/Gb</td>\n",
              "      <td>1</td>\n",
              "      <td>0</td>\n",
              "      <td>0.548</td>\n",
              "      <td>0.0391</td>\n",
              "      <td>-23.228</td>\n",
              "      <td>0.1530</td>\n",
              "      <td>0.996</td>\n",
              "      <td>0.933000</td>\n",
              "      <td>0.1480</td>\n",
              "      <td>0.6120</td>\n",
              "      <td>75.595</td>\n",
              "    </tr>\n",
              "  </tbody>\n",
              "</table>\n",
              "</div>\n",
              "      <button class=\"colab-df-convert\" onclick=\"convertToInteractive('df-e70955d2-ad29-4c94-a570-52a2d8566ce0')\"\n",
              "              title=\"Convert this dataframe to an interactive table.\"\n",
              "              style=\"display:none;\">\n",
              "        \n",
              "  <svg xmlns=\"http://www.w3.org/2000/svg\" height=\"24px\"viewBox=\"0 0 24 24\"\n",
              "       width=\"24px\">\n",
              "    <path d=\"M0 0h24v24H0V0z\" fill=\"none\"/>\n",
              "    <path d=\"M18.56 5.44l.94 2.06.94-2.06 2.06-.94-2.06-.94-.94-2.06-.94 2.06-2.06.94zm-11 1L8.5 8.5l.94-2.06 2.06-.94-2.06-.94L8.5 2.5l-.94 2.06-2.06.94zm10 10l.94 2.06.94-2.06 2.06-.94-2.06-.94-.94-2.06-.94 2.06-2.06.94z\"/><path d=\"M17.41 7.96l-1.37-1.37c-.4-.4-.92-.59-1.43-.59-.52 0-1.04.2-1.43.59L10.3 9.45l-7.72 7.72c-.78.78-.78 2.05 0 2.83L4 21.41c.39.39.9.59 1.41.59.51 0 1.02-.2 1.41-.59l7.78-7.78 2.81-2.81c.8-.78.8-2.07 0-2.86zM5.41 20L4 18.59l7.72-7.72 1.47 1.35L5.41 20z\"/>\n",
              "  </svg>\n",
              "      </button>\n",
              "      \n",
              "  <style>\n",
              "    .colab-df-container {\n",
              "      display:flex;\n",
              "      flex-wrap:wrap;\n",
              "      gap: 12px;\n",
              "    }\n",
              "\n",
              "    .colab-df-convert {\n",
              "      background-color: #E8F0FE;\n",
              "      border: none;\n",
              "      border-radius: 50%;\n",
              "      cursor: pointer;\n",
              "      display: none;\n",
              "      fill: #1967D2;\n",
              "      height: 32px;\n",
              "      padding: 0 0 0 0;\n",
              "      width: 32px;\n",
              "    }\n",
              "\n",
              "    .colab-df-convert:hover {\n",
              "      background-color: #E2EBFA;\n",
              "      box-shadow: 0px 1px 2px rgba(60, 64, 67, 0.3), 0px 1px 3px 1px rgba(60, 64, 67, 0.15);\n",
              "      fill: #174EA6;\n",
              "    }\n",
              "\n",
              "    [theme=dark] .colab-df-convert {\n",
              "      background-color: #3B4455;\n",
              "      fill: #D2E3FC;\n",
              "    }\n",
              "\n",
              "    [theme=dark] .colab-df-convert:hover {\n",
              "      background-color: #434B5C;\n",
              "      box-shadow: 0px 1px 3px 1px rgba(0, 0, 0, 0.15);\n",
              "      filter: drop-shadow(0px 1px 2px rgba(0, 0, 0, 0.3));\n",
              "      fill: #FFFFFF;\n",
              "    }\n",
              "  </style>\n",
              "\n",
              "      <script>\n",
              "        const buttonEl =\n",
              "          document.querySelector('#df-e70955d2-ad29-4c94-a570-52a2d8566ce0 button.colab-df-convert');\n",
              "        buttonEl.style.display =\n",
              "          google.colab.kernel.accessAllowed ? 'block' : 'none';\n",
              "\n",
              "        async function convertToInteractive(key) {\n",
              "          const element = document.querySelector('#df-e70955d2-ad29-4c94-a570-52a2d8566ce0');\n",
              "          const dataTable =\n",
              "            await google.colab.kernel.invokeFunction('convertToInteractive',\n",
              "                                                     [key], {});\n",
              "          if (!dataTable) return;\n",
              "\n",
              "          const docLinkHtml = 'Like what you see? Visit the ' +\n",
              "            '<a target=\"_blank\" href=https://colab.research.google.com/notebooks/data_table.ipynb>data table notebook</a>'\n",
              "            + ' to learn more about interactive tables.';\n",
              "          element.innerHTML = '';\n",
              "          dataTable['output_type'] = 'display_data';\n",
              "          await google.colab.output.renderOutput(dataTable, element);\n",
              "          const docLink = document.createElement('div');\n",
              "          docLink.innerHTML = docLinkHtml;\n",
              "          element.appendChild(docLink);\n",
              "        }\n",
              "      </script>\n",
              "    </div>\n",
              "  </div>\n",
              "  "
            ]
          },
          "metadata": {},
          "execution_count": 11
        }
      ]
    },
    {
      "cell_type": "markdown",
      "source": [
        "2: Calculate the mean, median, range, and standard deviation of song durations in minutes. Before you do this, try to guess for yourself what the mean or median will be."
      ],
      "metadata": {
        "id": "Fe5lvDOOF-da"
      }
    },
    {
      "cell_type": "code",
      "source": [
        "# mean\n",
        "df['duration_minutes'].mean()"
      ],
      "metadata": {
        "colab": {
          "base_uri": "https://localhost:8080/"
        },
        "id": "dFFGYCydFxpW",
        "outputId": "299dd2ed-ae27-4014-9a14-1d56ab20969d"
      },
      "execution_count": 12,
      "outputs": [
        {
          "output_type": "execute_result",
          "data": {
            "text/plain": [
              "3.746077402927522"
            ]
          },
          "metadata": {},
          "execution_count": 12
        }
      ]
    },
    {
      "cell_type": "code",
      "source": [
        "# median\n",
        "df['duration_minutes'].median()"
      ],
      "metadata": {
        "colab": {
          "base_uri": "https://localhost:8080/"
        },
        "id": "HpyCSDwNGMaM",
        "outputId": "16da79e3-4a61-405d-c021-23770af6b175"
      },
      "execution_count": 13,
      "outputs": [
        {
          "output_type": "execute_result",
          "data": {
            "text/plain": [
              "3.5686666666666667"
            ]
          },
          "metadata": {},
          "execution_count": 13
        }
      ]
    },
    {
      "cell_type": "code",
      "source": [
        "# range\n",
        "df['duration_minutes'].max() - df['duration_minutes'].min()"
      ],
      "metadata": {
        "colab": {
          "base_uri": "https://localhost:8080/"
        },
        "id": "7RCN2qJKGQfo",
        "outputId": "054e1d51-95be-4a9b-fd5f-995ccbb81a69"
      },
      "execution_count": 14,
      "outputs": [
        {
          "output_type": "execute_result",
          "data": {
            "text/plain": [
              "12.21945"
            ]
          },
          "metadata": {},
          "execution_count": 14
        }
      ]
    },
    {
      "cell_type": "code",
      "source": [
        "# standard deviation \n",
        "df['duration_minutes'].std()"
      ],
      "metadata": {
        "colab": {
          "base_uri": "https://localhost:8080/"
        },
        "id": "mnet5SA8GXt_",
        "outputId": "9f689398-f2fb-49e9-8871-8e91399c5245"
      },
      "execution_count": 17,
      "outputs": [
        {
          "output_type": "execute_result",
          "data": {
            "text/plain": [
              "1.4376194631584824"
            ]
          },
          "metadata": {},
          "execution_count": 17
        }
      ]
    },
    {
      "cell_type": "markdown",
      "source": [
        "3: Filter the database and search for Coldplay songs. Calculate the average length of the band's songs and answer the question:\n",
        "The average duration of Coldplay's songs is shorter than the average of all the songs in the database."
      ],
      "metadata": {
        "id": "iW_l_Th7Hidj"
      }
    },
    {
      "cell_type": "code",
      "source": [
        "coldplay_songs = df[df['artists'] == \"Coldplay\"]"
      ],
      "metadata": {
        "id": "Y8GUKoFpGf9O"
      },
      "execution_count": 19,
      "outputs": []
    },
    {
      "cell_type": "code",
      "source": [
        "average_length = coldplay_songs['duration_minutes'].mean()"
      ],
      "metadata": {
        "id": "9dNVaEvEIA2t"
      },
      "execution_count": 20,
      "outputs": []
    },
    {
      "cell_type": "code",
      "source": [
        "print(average_length)"
      ],
      "metadata": {
        "colab": {
          "base_uri": "https://localhost:8080/"
        },
        "id": "62NNKF_-LVY9",
        "outputId": "c1f2002d-8512-4e2a-d320-ccda4c3c32b8"
      },
      "execution_count": 21,
      "outputs": [
        {
          "output_type": "stream",
          "name": "stdout",
          "text": [
            "4.533862096774193\n"
          ]
        }
      ]
    },
    {
      "cell_type": "code",
      "source": [
        "if average_length < df['duration_minutes'].mean():\n",
        "  print(\"yes\")\n",
        "else:\n",
        "  print(\"no\")"
      ],
      "metadata": {
        "colab": {
          "base_uri": "https://localhost:8080/"
        },
        "id": "azXb1qQ4LYOs",
        "outputId": "4c6113f3-8c14-45a0-874f-15d9af7644f6"
      },
      "execution_count": 23,
      "outputs": [
        {
          "output_type": "stream",
          "name": "stdout",
          "text": [
            "no\n"
          ]
        }
      ]
    },
    {
      "cell_type": "markdown",
      "source": [
        "4: Filter the database and search for Chava Alberstein's songs. Calculate the average length of the singer's songs as well as the median, and answer the question:\n",
        "The difference between the average and the median of the length of Hava Elberstein's poems is grater than the difference between the average and the median of the total poems in the database.\n"
      ],
      "metadata": {
        "id": "4lD_j0rNLrCG"
      }
    },
    {
      "cell_type": "code",
      "source": [
        "Chava_Alberstein_songs = df[df['artists'] == \"Chava_Alberstein\"]"
      ],
      "metadata": {
        "id": "-Txav70VLgCi"
      },
      "execution_count": 24,
      "outputs": []
    },
    {
      "cell_type": "code",
      "source": [
        "Chava_Alberstein_median = Chava_Alberstein_songs['duration_minutes'].median()"
      ],
      "metadata": {
        "id": "wm6Adjz8OjSw"
      },
      "execution_count": 29,
      "outputs": []
    },
    {
      "cell_type": "code",
      "source": [
        "Chava_Alberstein_mean = Chava_Alberstein_songs['duration_minutes'].mean()"
      ],
      "metadata": {
        "id": "asuvzm3yPpVQ"
      },
      "execution_count": 30,
      "outputs": []
    },
    {
      "cell_type": "code",
      "source": [
        "if(Chava_Alberstein_mean - Chava_Alberstein_median < df['duration_minutes'].mean() - df['duration_minutes'].median() ):\n",
        "  print(\"yes\")\n",
        "else:\n",
        "  print(\"no\")"
      ],
      "metadata": {
        "colab": {
          "base_uri": "https://localhost:8080/"
        },
        "id": "2AcPnJboP26a",
        "outputId": "3361066e-1648-432d-f271-0774ecb492b4"
      },
      "execution_count": 33,
      "outputs": [
        {
          "output_type": "stream",
          "name": "stdout",
          "text": [
            "no\n"
          ]
        }
      ]
    },
    {
      "cell_type": "markdown",
      "source": [
        "5:  The value 1 indicates a major scale, and the value 0 indicates a minor scale.\n",
        "Calculate the frequency table for the mode column on the database. What type of scale is more common? What is the ratio?"
      ],
      "metadata": {
        "id": "pbgSeQKAY5fT"
      }
    },
    {
      "cell_type": "code",
      "source": [
        "df['mode'].value_counts()"
      ],
      "metadata": {
        "colab": {
          "base_uri": "https://localhost:8080/"
        },
        "id": "Na-1pV88Y577",
        "outputId": "f5a041e5-d831-4a3a-bf37-f20900ccf3c9"
      },
      "execution_count": 34,
      "outputs": [
        {
          "output_type": "execute_result",
          "data": {
            "text/plain": [
              "1    342555\n",
              "0    178705\n",
              "Name: mode, dtype: int64"
            ]
          },
          "metadata": {},
          "execution_count": 34
        }
      ]
    },
    {
      "cell_type": "markdown",
      "source": [
        "6:The key column indicates the musical scale of the song. Calculate the relative frequency table of the musical scales in the songs of the database. Sort the table by scale name."
      ],
      "metadata": {
        "id": "TaKWUaJFZTFD"
      }
    },
    {
      "cell_type": "code",
      "source": [
        "df['key'].value_counts(normalize=True).sort_index()"
      ],
      "metadata": {
        "colab": {
          "base_uri": "https://localhost:8080/"
        },
        "id": "pOb8EVqGY6xP",
        "outputId": "250ea670-a6ed-4ed7-dde7-33eb0111cabb"
      },
      "execution_count": 35,
      "outputs": [
        {
          "output_type": "execute_result",
          "data": {
            "text/plain": [
              "A        0.111459\n",
              "A#/Bb    0.064043\n",
              "B        0.066360\n",
              "C        0.127742\n",
              "C#/Db    0.071145\n",
              "D        0.113811\n",
              "D#/Eb    0.036437\n",
              "E        0.082005\n",
              "F        0.091354\n",
              "F#/Gb    0.052707\n",
              "G        0.126229\n",
              "G#/Ab    0.056709\n",
              "Name: key, dtype: float64"
            ]
          },
          "metadata": {},
          "execution_count": 35
        }
      ]
    },
    {
      "cell_type": "markdown",
      "source": [
        "7:Compare the following two artists according to the musical scales - which scales do each prefer in relation to the other? in relation to the rule? Is it correct to use a frequency table or a relative frequency table?\n",
        "\n",
        "Arik Einstein\n",
        "Leonard Cohen\n"
      ],
      "metadata": {
        "id": "LamMQo6YZn88"
      }
    },
    {
      "cell_type": "code",
      "source": [
        "leonard_cohen_df = df[df['artists'] == 'Leonard Cohen']\n",
        "print(leonard_cohen_df.shape)\n",
        "leonard_cohen_df['key'].value_counts(normalize=True).sort_index()"
      ],
      "metadata": {
        "colab": {
          "base_uri": "https://localhost:8080/"
        },
        "id": "wGQadVKXZe4Q",
        "outputId": "7c298b98-9e64-4fce-e0f2-54692a01a41d"
      },
      "execution_count": 36,
      "outputs": [
        {
          "output_type": "stream",
          "name": "stdout",
          "text": [
            "(91, 17)\n"
          ]
        },
        {
          "output_type": "execute_result",
          "data": {
            "text/plain": [
              "A        0.142857\n",
              "A#/Bb    0.032967\n",
              "B        0.054945\n",
              "C        0.109890\n",
              "C#/Db    0.032967\n",
              "D        0.054945\n",
              "D#/Eb    0.043956\n",
              "E        0.131868\n",
              "F        0.164835\n",
              "F#/Gb    0.054945\n",
              "G        0.164835\n",
              "G#/Ab    0.010989\n",
              "Name: key, dtype: float64"
            ]
          },
          "metadata": {},
          "execution_count": 36
        }
      ]
    },
    {
      "cell_type": "code",
      "source": [
        "arik_eins_df = df[df['artists'] == 'Arik Einstein']\n",
        "print(arik_eins_df.shape) \n",
        "arik_eins_df['key'].value_counts(normalize=True).sort_index()\n"
      ],
      "metadata": {
        "colab": {
          "base_uri": "https://localhost:8080/"
        },
        "id": "QUnugPUaZ0KA",
        "outputId": "25cb476e-ce39-4d8f-819e-d67ce864476c"
      },
      "execution_count": 43,
      "outputs": [
        {
          "output_type": "stream",
          "name": "stdout",
          "text": [
            "(106, 17)\n"
          ]
        },
        {
          "output_type": "execute_result",
          "data": {
            "text/plain": [
              "A        0.075472\n",
              "A#/Bb    0.094340\n",
              "B        0.028302\n",
              "C        0.235849\n",
              "C#/Db    0.037736\n",
              "D        0.198113\n",
              "D#/Eb    0.018868\n",
              "E        0.094340\n",
              "F        0.047170\n",
              "F#/Gb    0.018868\n",
              "G        0.113208\n",
              "G#/Ab    0.037736\n",
              "Name: key, dtype: float64"
            ]
          },
          "metadata": {},
          "execution_count": 43
        }
      ]
    },
    {
      "cell_type": "markdown",
      "source": [
        "One can observe variations in the musical preferences between the two artists. As an illustration, Leonard Cohen's compositions frequently use the A, F and G scales, yet these same scales are less prevalent in Eric Einstein's works, both in comparison to Leonard Cohen's usage and compared to the general population. Conversely, the C scale is a regular feature in Eric Einstein's songs, both in contrast to Leonard Cohen's usage and in relation to the overall musical community.\n",
        "\n",
        "\n",
        "\n"
      ],
      "metadata": {
        "id": "_xs3OWHxaKxM"
      }
    },
    {
      "cell_type": "markdown",
      "source": [],
      "metadata": {
        "id": "WitYkgm4Z2vv"
      }
    }
  ]
}